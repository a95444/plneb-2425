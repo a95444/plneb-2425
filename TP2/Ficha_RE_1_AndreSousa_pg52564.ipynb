{
 "nbformat": 4,
 "nbformat_minor": 0,
 "metadata": {
  "colab": {
   "provenance": [],
   "toc_visible": true
  },
  "kernelspec": {
   "name": "python3",
   "display_name": "Python 3 (ipykernel)",
   "language": "python"
  },
  "language_info": {
   "name": "python"
  }
 },
 "cells": [
  {
   "cell_type": "markdown",
   "source": [
    "# Ficha de Expressões Regulares 1"
   ],
   "metadata": {
    "id": "oVaAea-wCM6H"
   }
  },
  {
   "cell_type": "markdown",
   "source": [
    "### Conceitos básicos de expressões regulares\n",
    "\n",
    "- `a` - corresponde a uma ocorrência do caracter `a`.\n",
    "- `a?` - corresponde a 0 ou 1 ocorrências do caracter `a`.\n",
    "- `a+` - corresponde a 1 ou mais ocorrências do caracter `a`.\n",
    "- `a*` - corresponde a 0 ou mais ocorrências do caracter `a`.\n",
    "- `[abc]` - corresponde a uma ocorrência de um dos caracteres `a`, `b` ou `c`.\n",
    "- `[a-z]` - corresponde a uma ocorrência de um caracter entre `a` e `z`.\n",
    "- `^` - corresponde ao início da string.\n",
    "- `$` - corresponde ao fim da string.\n",
    "- `[^abc]` - corresponde a uma ocorrência de qualquer caracter que não seja `a`, `b` ou `c`.\n",
    "\n",
    "Podemos usar o operador de união para unir várias expressões regulares. Por exemplo: `a|bbb|[^a-z]`, que corresponde a uma das várias (neste caso, 3) expressões regulares que fazem parte da união.\n",
    "\n",
    "Podemos simplificar expressões regulares como `bbb` para `b{3}`, ou seja, 3 ocorrências consecutivas do caracter `b`, neste caso. Outras opções incluem `b{3,}` para 3 ou mais ocorrências ou `b{3,6}` para entre 3 a 6 ocorrências, por exemplo.\n",
    "\n",
    "Para formar grupos de expressões regulares, usamos parênteses. Por exemplo: `((abc)*|[0-9]+)?`. Os operadores após um grupo atuam sobre o grupo.\n",
    "\n",
    "Podemos ainda aplicar modificadores a grupos. Por exemplo, `(?i:teste)` corresponde à expressão \"teste\", escrita com qualquer combinação de maiúsculas e minúsculas (e.g., \"TESTE\", \"tEsTe\", \"TEste\", etc.)."
   ],
   "metadata": {
    "id": "gk5jnHXt9t4y"
   }
  },
  {
   "cell_type": "markdown",
   "source": [
    "## Exercício 1"
   ],
   "metadata": {
    "id": "yDRt0yOgJ-TW"
   }
  },
  {
   "cell_type": "markdown",
   "source": [
    "### Alínea 1.1\n",
    "\n",
    "Dada uma linha de texto, define um programa que determina se a palavra \"hello\" aparece no início da linha.\n",
    "\n",
    "Conceitos importantes para este exercício:\n",
    "\n",
    "- `re.match(pattern, string[, flags])` - analisa a `string` e tenta encontrar uma correspondência para a expressão regular `pattern` a partir do início da string. Devolve `None` se não encontrar nenhuma correspondência.\n",
    "- `r\"\"` - string correspondente a uma expressão regular.10. put all words between {}"
   ],
   "metadata": {
    "id": "gI05knhniDCr"
   }
  },
  {
   "cell_type": "code",
   "metadata": {
    "id": "ufl-7TGph9WH",
    "ExecuteTime": {
     "end_time": "2025-02-22T10:35:07.548514Z",
     "start_time": "2025-02-22T10:35:07.534517Z"
    }
   },
   "source": [
    "import re\n",
    "\n",
    "line1 = \"hello world\"\n",
    "line2 = \"goodbye world\"\n",
    "line3 = \"hi, hello there\"\n",
    "line4= \"hello world, second round\"\n",
    "lines=[line1,line2,line3,line4]\n",
    "\n",
    "def hello_start(lines):\n",
    "    verified_lines=[]\n",
    "    for line in lines:\n",
    "        resultado=re.match(r\"hello\", line)\n",
    "        if resultado: verified_lines.append(line)\n",
    "    if verified_lines:\n",
    "        return verified_lines\n",
    "    else:\n",
    "        return None\n",
    "\n",
    "print(f'Strings com \"hello\" no início da linha: {hello_start(lines)}')\n"
   ],
   "outputs": [
    {
     "name": "stdout",
     "output_type": "stream",
     "text": [
      "Strings com \"hello\" no início da linha: ['hello world', 'hello world, second round']\n"
     ]
    }
   ],
   "execution_count": 16
  },
  {
   "cell_type": "markdown",
   "source": [
    "### Alínea 1.2\n",
    "\n",
    "Dada uma linha de texto, define um programa que determina se a palavra \"hello\" aparece em qualquer posição da linha.\n",
    "\n",
    "Conceitos importantes para este exercício:\n",
    "\n",
    "- `re.search(pattern, string[, flags])` - analisa a `string` e tenta encontrar uma correspondência para a expressão regular `pattern` em qualquer posição da string. Devolve `None` se não encontrar nenhuma correspondência."
   ],
   "metadata": {
    "id": "gzgOACqiJ7VN"
   }
  },
  {
   "cell_type": "code",
   "metadata": {
    "id": "TM-qMl-yJ7VS",
    "ExecuteTime": {
     "end_time": "2025-02-22T10:34:53.256372Z",
     "start_time": "2025-02-22T10:34:53.239372Z"
    }
   },
   "source": [
    "line1 = \"hello world\"\n",
    "line2 = \"goodbye world\"\n",
    "line3 = \"hi, hello there\"\n",
    "lines=[line1,line2,line3]\n",
    "\n",
    "def hello_anywhere(lines):\n",
    "    verified_lines=[]\n",
    "    for line in lines:\n",
    "        resultado=re.search(r\"hello\", line)\n",
    "        if resultado: verified_lines.append((line, resultado))\n",
    "    if verified_lines:\n",
    "        return verified_lines\n",
    "    else:\n",
    "        return None\n",
    "\n",
    "print(hello_anywhere(lines))\n"
   ],
   "outputs": [
    {
     "name": "stdout",
     "output_type": "stream",
     "text": [
      "[('hello world', <re.Match object; span=(0, 5), match='hello'>), ('hi, hello there', <re.Match object; span=(4, 9), match='hello'>)]\n"
     ]
    }
   ],
   "execution_count": 3
  },
  {
   "cell_type": "markdown",
   "source": [
    "### Alínea 1.3\n",
    "\n",
    "Dada uma linha de texto, define um programa que pesquisa por todas as ocorrências da palavra \"hello\" dentro da linha, admitindo que a palavra seja escrita com maiúsculas ou minúsculas.\n",
    "\n",
    "Conceitos importantes para este exercício:\n",
    "\n",
    "- `re.findall(pattern, string[, flags])` - encontra todas as correspondências que não se sobreponham da expressão regular `pattern` na `string`. Devolve uma lista."
   ],
   "metadata": {
    "id": "6ZE7klswOy90"
   }
  },
  {
   "cell_type": "code",
   "source": [
    "line = \"Hello there! Uh, hi, hello, it's me... Heyyy, hello? HELLO!\"\n",
    "\n",
    "def hello_every(line):\n",
    "    resultado=re.findall(r\"Hello\", line, re.IGNORECASE)\n",
    "    if resultado: return resultado\n",
    "\n",
    "print(f'Ocorrências encontradas: {hello_every(line)}')"
   ],
   "metadata": {
    "id": "aHB_l7g5OzNY",
    "ExecuteTime": {
     "end_time": "2025-02-22T10:34:53.569189Z",
     "start_time": "2025-02-22T10:34:53.547167Z"
    }
   },
   "outputs": [
    {
     "name": "stdout",
     "output_type": "stream",
     "text": [
      "Ocorrências encontradas: ['Hello', 'hello', 'hello', 'HELLO']\n"
     ]
    }
   ],
   "execution_count": 4
  },
  {
   "cell_type": "markdown",
   "source": [
    "### Alínea 1.4\n",
    "\n",
    "Dada uma linha de texto, define um programa que pesquisa por todas as ocorrências da palavra \"hello\" dentro da linha, substituindo cada uma por \"\\*YEP\\*\".\n",
    "\n",
    "Conceitos importantes para este exercício:\n",
    "\n",
    "- `re.sub(pattern, replacement, string, count = 0, flags = 0)` - substitui todas as correspondências da expressão regular `pattern` na `string` por `replacement`. `replacement` pode ser uma string, uma expressão regular ou uma função que recebe uma correspondência e devolve uma string. O parâmetro `count` determina o limite de substituições (por defeito é 0, ou seja, não há limite)."
   ],
   "metadata": {
    "id": "TSwUj26OPRmP"
   }
  },
  {
   "cell_type": "code",
   "source": [
    "line = \"Hello there! Uh, hi, hello, it's me... Heyyy, hello? HELLO!\"\n",
    "\n",
    "def hello_yep(line):\n",
    "    resultado=re.sub(r\"\\bHello\\b\",\"*YEP*\" ,line, 0, re.IGNORECASE)\n",
    "    if resultado: return resultado\n",
    "\n",
    "print(f'Frase Original: {line}\\n'\n",
    "      f'Frase Alterada: {hello_yep(line)}')"
   ],
   "metadata": {
    "id": "SXLK2rhMPf11",
    "ExecuteTime": {
     "end_time": "2025-02-22T10:37:17.364346Z",
     "start_time": "2025-02-22T10:37:17.343344Z"
    }
   },
   "outputs": [
    {
     "name": "stdout",
     "output_type": "stream",
     "text": [
      "Frase Original: Hello there! Uh, hi, hello, it's me... Heyyy, hello? HELLO!\n",
      "Frase Alterada: *YEP* there! Uh, hi, *YEP*, it's me... Heyyy, *YEP*? *YEP*!\n"
     ]
    }
   ],
   "execution_count": 17
  },
  {
   "cell_type": "markdown",
   "source": [
    "### Alínea 1.5\n",
    "\n",
    "Dada uma linha de texto, define um programa que pesquisa por todas as ocorrências do caracter vírgula, separando cada parte da linha por esse caracter.\n",
    "\n",
    "Conceitos importantes para este exercício:\n",
    "\n",
    "- `re.split(pattern, string, maxsplit = 0, flags = 0)` - divide a `string` com base nas correspondências da expressão regular `pattern`. O parâmetro `maxsplit` pode ser usado para definir um limite de divisões (por defeito é 0, que corresponde a divisões infinitas)."
   ],
   "metadata": {
    "id": "MrgsEzJCPgbO"
   }
  },
  {
   "cell_type": "code",
   "source": [
    "line = \"bananas, laranjas, maçãs, uvas, melancias, cerejas, kiwis, etc.\"\n",
    "\n",
    "def split_function(line):\n",
    "    resultado=re.split(r\",\",line, 0)\n",
    "    for i in range(len(resultado)): resultado[i]=resultado[i].strip() #tira os espaços em branco antes das palavras\n",
    "    if resultado: return resultado\n",
    "\n",
    "print(f'Frase Original: {line}\\n'\n",
    "      f'Resultado do split: {split_function(line)}')\n",
    "# ..."
   ],
   "metadata": {
    "id": "vrwiid6XPgvg",
    "ExecuteTime": {
     "end_time": "2025-02-22T10:34:54.153179Z",
     "start_time": "2025-02-22T10:34:54.125165Z"
    }
   },
   "outputs": [
    {
     "name": "stdout",
     "output_type": "stream",
     "text": [
      "Frase Original: bananas, laranjas, maçãs, uvas, melancias, cerejas, kiwis, etc.\n",
      "Resultado do split: ['bananas', 'laranjas', 'maçãs', 'uvas', 'melancias', 'cerejas', 'kiwis', 'etc.']\n"
     ]
    }
   ],
   "execution_count": 6
  },
  {
   "cell_type": "markdown",
   "source": [
    "## Exercício 2\n",
    "\n",
    "Define a função `palavra_magica` que recebe uma frase e determina se a mesma termina com a expressão \"por favor\", seguida de um sinal válido de pontuação."
   ],
   "metadata": {
    "id": "6QP0erT4iSzE"
   }
  },
  {
   "cell_type": "code",
   "source": [
    "def palavra_magica(frase):\n",
    "  resultado=re.findall(r\"\\bpor favor[\\.|?|!]$\",frase, 0)\n",
    "  if resultado:\n",
    "      return (frase, True)\n",
    "  else:\n",
    "      return (frase, False)\n",
    "\n",
    "print(palavra_magica(\"Posso ir à casa de banho, por favor?\"))\n",
    "print(palavra_magica(\"Preciso de um favor.\"))\n",
    "print(palavra_magica(\"Preciso de um favor, por favor!\"))\n",
    "print(palavra_magica(\"Sai daqui, por favor\"))"
   ],
   "metadata": {
    "id": "MhCC49z7jU7n",
    "ExecuteTime": {
     "end_time": "2025-02-22T10:34:54.377167Z",
     "start_time": "2025-02-22T10:34:54.346168Z"
    }
   },
   "outputs": [
    {
     "name": "stdout",
     "output_type": "stream",
     "text": [
      "('Posso ir à casa de banho, por favor?', True)\n",
      "('Preciso de um favor.', False)\n",
      "('Preciso de um favor, por favor!', True)\n",
      "('Sai daqui, por favor', False)\n"
     ]
    }
   ],
   "execution_count": 7
  },
  {
   "cell_type": "markdown",
   "source": [
    "## Exercício 3\n",
    "\n",
    "Define a função `narcissismo` que calcula quantas vezes a palavra \"eu\" aparece numa string."
   ],
   "metadata": {
    "id": "L71wvPCujpBD"
   }
  },
  {
   "cell_type": "code",
   "source": [
    "def narcissismo(linha):\n",
    "    resultado=re.findall(r\"\\beu\\b\", linha, re.IGNORECASE)\n",
    "    if resultado: return len(resultado)\n",
    "\n",
    "print(f'Número total de \"eu\"s: {narcissismo(\"Eu não sei se eu quero continuar a ser eu. Por outro lado, eu ser eu é uma parte importante de quem EU sou.\")}')"
   ],
   "metadata": {
    "id": "0HxFCow5nOj8",
    "ExecuteTime": {
     "end_time": "2025-02-22T10:34:54.615168Z",
     "start_time": "2025-02-22T10:34:54.595170Z"
    }
   },
   "outputs": [
    {
     "name": "stdout",
     "output_type": "stream",
     "text": [
      "Número total de \"eu\"s: 6\n"
     ]
    }
   ],
   "execution_count": 8
  },
  {
   "cell_type": "markdown",
   "source": [
    "## Exercício 4\n",
    "\n",
    "Define a função `troca_de_curso` que substitui todas as ocorrências de \"LEI\" numa linha pelo nome do curso dado à função."
   ],
   "metadata": {
    "id": "EKETfRaOolO4"
   }
  },
  {
   "cell_type": "code",
   "source": [
    "def troca_de_curso(linha, novo_curso):\n",
    "    resultado=re.sub(r\"\\bLEI\\b\", novo_curso ,linha, 0)\n",
    "    if resultado: return resultado\n",
    "\n",
    "print(troca_de_curso(\"LEI é o melhor curso! Adoro LEI! Gostar de LEI devia ser uma lei.\", \"BIOM\"))"
   ],
   "metadata": {
    "id": "8ZVPMxfZpRrx",
    "ExecuteTime": {
     "end_time": "2025-02-22T10:34:54.821181Z",
     "start_time": "2025-02-22T10:34:54.795172Z"
    }
   },
   "outputs": [
    {
     "name": "stdout",
     "output_type": "stream",
     "text": [
      "BIOM é o melhor curso! Adoro BIOM! Gostar de BIOM devia ser uma lei.\n"
     ]
    }
   ],
   "execution_count": 9
  },
  {
   "cell_type": "markdown",
   "source": [
    "## Exercício 5\n",
    "\n",
    "Define a função `soma_string` que recebe uma string com vários números separados por uma vírgula (e.g., \"1,2,3,4,5\") e devolve a soma destes números."
   ],
   "metadata": {
    "id": "GZKMkTKcp886"
   }
  },
  {
   "cell_type": "code",
   "source": [
    "def soma_string(linha):\n",
    "    soma=0\n",
    "    resultado=re.split(r\",\",linha, 0)\n",
    "    for i in resultado:\n",
    "      soma+=int(i)\n",
    "\n",
    "    return soma\n",
    "\n",
    "print(f'Resultado da soma: {soma_string(\"4,-6,2,3,8,-3,0,2,-5,1\")}')"
   ],
   "metadata": {
    "id": "ExqmZwj_rzuR",
    "ExecuteTime": {
     "end_time": "2025-02-22T10:34:55.075174Z",
     "start_time": "2025-02-22T10:34:55.056173Z"
    }
   },
   "outputs": [
    {
     "name": "stdout",
     "output_type": "stream",
     "text": [
      "Resultado da soma: 6\n"
     ]
    }
   ],
   "execution_count": 10
  },
  {
   "cell_type": "markdown",
   "source": [
    "## Exercício 6\n",
    "\n",
    "Define a função `pronomes` que encontra e devolve todos os pronomes pessoais presentes numa frase, i.e., \"eu\", \"tu\", \"ele\", \"ela\", etc., com atenção para letras maiúsculas ou minúsculas."
   ],
   "metadata": {
    "id": "n49iafoNzw-3"
   }
  },
  {
   "cell_type": "code",
   "source": [
    "#lista_pronomes=['eu','tu', 'ele', 'ela', 'nós', 'vós', 'eles', 'elas']\n",
    "\n",
    "def pronomes(linha):\n",
    "    resultado=re.findall(r\"\\b[et]u\\b | \\bel[ea]s*\\b | \\b[nv]ós\\b\", linha, re.IGNORECASE)\n",
    "    if resultado: return resultado\n",
    "    \n",
    "print(f'Pronomes detetados: {pronomes(\"Eu sempre disse que tu e ele viriam, mas Ela e nós preferimos esperar. Vós acham que eles e elas já decidiram?\")}')"
   ],
   "metadata": {
    "id": "RnuCrz2H0DWq",
    "ExecuteTime": {
     "end_time": "2025-02-22T10:34:55.264701Z",
     "start_time": "2025-02-22T10:34:55.251177Z"
    }
   },
   "outputs": [
    {
     "name": "stdout",
     "output_type": "stream",
     "text": [
      "Pronomes detetados: ['Eu ', 'tu ', ' ele ', ' Ela ', ' nós', ' Vós', ' eles ', ' elas ']\n"
     ]
    }
   ],
   "execution_count": 11
  },
  {
   "cell_type": "markdown",
   "source": [
    "## Exercício 7\n",
    "\n",
    "Define a função `variavel_valida` que recebe uma string e determina se a mesma é um nome válido para uma variável, ou seja, se começa por uma letra e apenas contém letras, números ou *underscores*."
   ],
   "metadata": {
    "id": "BHMk88OQ0XFY"
   }
  },
  {
   "cell_type": "code",
   "source": [
    "def variavel_valida(variavel):\n",
    "    resultado=re.match(r\"^[a-z]\\w*$\", variavel, re.IGNORECASE)\n",
    "    if resultado:\n",
    "        return True\n",
    "    else:\n",
    "        return False\n",
    "\n",
    "print(variavel_valida(\"tentativa variavel\"))\n",
    "print(variavel_valida(\"variavel_12345\"))\n",
    "print(variavel_valida(\"var!!123\"))\n",
    "print(variavel_valida(\"123var!!123\"))\n",
    "print(variavel_valida(\"123var123\"))\n"
   ],
   "metadata": {
    "id": "YTQW91Ws1WLx",
    "ExecuteTime": {
     "end_time": "2025-02-22T10:59:19.643802Z",
     "start_time": "2025-02-22T10:59:19.620808Z"
    }
   },
   "outputs": [
    {
     "name": "stdout",
     "output_type": "stream",
     "text": [
      "False\n",
      "True\n",
      "False\n",
      "False\n",
      "False\n"
     ]
    }
   ],
   "execution_count": 48
  },
  {
   "cell_type": "markdown",
   "source": [
    "## Exercício 8\n",
    "\n",
    "Define a função `inteiros` que devolve todos os números inteiros presentes numa string. Um número inteiro pode conter um ou mais dígitos e pode ser positivo ou negativo."
   ],
   "metadata": {
    "id": "ZRWbgkMM5qzx"
   }
  },
  {
   "cell_type": "code",
   "source": [
    "def inteiros(frase):\n",
    "    resultado=re.findall(r\"-?\\d+\", frase)\n",
    "    #-?: pode ou não ser negativo\n",
    "    #\\d+: tem que ter 1 ou + digitos\n",
    "    if resultado:\n",
    "        return resultado\n",
    "\n",
    "print(inteiros(\"teste-12345 0\"))\n",
    "print(inteiros(\"-123 45\"))\n",
    "print(inteiros(\"novo teste_12345\"))"
   ],
   "metadata": {
    "id": "jsmiEi6gA7vh",
    "ExecuteTime": {
     "end_time": "2025-02-22T11:00:19.938071Z",
     "start_time": "2025-02-22T11:00:19.921086Z"
    }
   },
   "outputs": [
    {
     "name": "stdout",
     "output_type": "stream",
     "text": [
      "['-12345', '0']\n",
      "['-123', '45']\n",
      "['12345']\n"
     ]
    }
   ],
   "execution_count": 50
  },
  {
   "cell_type": "markdown",
   "source": [
    "## Exercício 9\n",
    "\n",
    "Define a função `underscores` que substitui todos os espaços numa string por *underscores*. Se aparecerem vários espaços seguidos, devem ser substituídos por apenas um *underscore*."
   ],
   "metadata": {
    "id": "QhpGhtBT7aD3"
   }
  },
  {
   "cell_type": "code",
   "source": [
    "def underscores(frase):\n",
    "    resultado=re.sub(r\"\\s+\", \"_\", frase,0)\n",
    "    if resultado:\n",
    "        return resultado\n",
    "\n",
    "print(underscores(\"teste 12345 0\"))\n",
    "print(underscores(\"-123  45 palavra\"))\n",
    "print(underscores(\"novo teste  12345\"))"
   ],
   "metadata": {
    "id": "1YTIkZT-6Ase",
    "ExecuteTime": {
     "end_time": "2025-02-22T10:34:55.868718Z",
     "start_time": "2025-02-22T10:34:55.842701Z"
    }
   },
   "outputs": [
    {
     "name": "stdout",
     "output_type": "stream",
     "text": [
      "teste_12345_0\n",
      "-123_45_palavra\n",
      "novo_teste_12345\n"
     ]
    }
   ],
   "execution_count": 14
  },
  {
   "cell_type": "markdown",
   "source": [
    "## Exercício 10\n",
    "\n",
    "Define a função `codigos_postais` que recebe uma lista de códigos postais válidos e divide-os com base no hífen. A função deve devolver uma lista de pares."
   ],
   "metadata": {
    "id": "xcUrRlIy8uof"
   }
  },
  {
   "cell_type": "code",
   "source": [
    "lista = [\n",
    "    \"4700-000\",\n",
    "    \"1234-567\",\n",
    "    \"8541-543\",\n",
    "    \"4123-974\",\n",
    "    \"9481-025\"\n",
    "]\n",
    "\n",
    "\n",
    "def codigo_postais(lista_cod):\n",
    "    codigos_finais=[]\n",
    "    for codigo in lista_cod:\n",
    "        resultado=re.split(r\"-\", codigo)\n",
    "        codigos_finais.append((resultado[0], resultado[1]))\n",
    "    return codigos_finais\n",
    "        \n",
    "\n",
    "print(f'Lista de pares: {codigo_postais(lista)}')\n",
    "    \n"
   ],
   "metadata": {
    "id": "6xj01Oy09ncO",
    "ExecuteTime": {
     "end_time": "2025-02-22T10:34:55.996708Z",
     "start_time": "2025-02-22T10:34:55.977697Z"
    }
   },
   "outputs": [
    {
     "name": "stdout",
     "output_type": "stream",
     "text": [
      "Lista de pares: [('4700', '000'), ('1234', '567'), ('8541', '543'), ('4123', '974'), ('9481', '025')]\n"
     ]
    }
   ],
   "execution_count": 15
  }
 ]
}
